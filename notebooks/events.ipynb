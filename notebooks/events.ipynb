{
 "cells": [
  {
   "cell_type": "code",
   "execution_count": 1,
   "id": "43a3222c",
   "metadata": {},
   "outputs": [],
   "source": [
    "import pandas as pd\n",
    "import json"
   ]
  },
  {
   "cell_type": "code",
   "execution_count": 2,
   "id": "1637bdc2",
   "metadata": {},
   "outputs": [],
   "source": [
    "raw_data = []\n",
    "with open('/home/david/StakeCap/hummingbot/logs/events_aroon_oscillator_1.log','r') as fp:\n",
    "    for line in fp.readlines():\n",
    "        if len(line.strip())>0:\n",
    "            raw_data.append(line.strip())\n",
    "raw_data = [dict(eval(line_data)) for line_data in raw_data]"
   ]
  },
  {
   "cell_type": "code",
   "execution_count": 4,
   "id": "bb67aa12",
   "metadata": {},
   "outputs": [
    {
     "data": {
      "text/html": [
       "<div>\n",
       "<style scoped>\n",
       "    .dataframe tbody tr th:only-of-type {\n",
       "        vertical-align: middle;\n",
       "    }\n",
       "\n",
       "    .dataframe tbody tr th {\n",
       "        vertical-align: top;\n",
       "    }\n",
       "\n",
       "    .dataframe thead th {\n",
       "        text-align: right;\n",
       "    }\n",
       "</style>\n",
       "<table border=\"1\" class=\"dataframe\">\n",
       "  <thead>\n",
       "    <tr style=\"text-align: right;\">\n",
       "      <th></th>\n",
       "      <th>timestamp</th>\n",
       "      <th>order_id</th>\n",
       "      <th>trading_pair</th>\n",
       "      <th>trade_type</th>\n",
       "      <th>order_type</th>\n",
       "      <th>price</th>\n",
       "      <th>amount</th>\n",
       "      <th>trade_fee</th>\n",
       "      <th>exchange_trade_id</th>\n",
       "      <th>leverage</th>\n",
       "      <th>position</th>\n",
       "      <th>event_name</th>\n",
       "      <th>event_source</th>\n",
       "      <th>base_asset</th>\n",
       "      <th>quote_asset</th>\n",
       "      <th>base_asset_amount</th>\n",
       "      <th>quote_asset_amount</th>\n",
       "      <th>exchange_order_id</th>\n",
       "    </tr>\n",
       "  </thead>\n",
       "  <tbody>\n",
       "    <tr>\n",
       "      <th>0</th>\n",
       "      <td>1.673210e+09</td>\n",
       "      <td>x-XEKWYICXBEHBD5f1c518d4c78678df</td>\n",
       "      <td>ETH-BUSD</td>\n",
       "      <td>TradeType.BUY</td>\n",
       "      <td>OrderType.LIMIT_MAKER</td>\n",
       "      <td>1265.01000000</td>\n",
       "      <td>0.01230000</td>\n",
       "      <td>{'percent': '0', 'percent_token': 'BNB', 'flat...</td>\n",
       "      <td>442175401</td>\n",
       "      <td>1.0</td>\n",
       "      <td>NIL</td>\n",
       "      <td>OrderFilledEvent</td>\n",
       "      <td>binance</td>\n",
       "      <td>NaN</td>\n",
       "      <td>NaN</td>\n",
       "      <td>NaN</td>\n",
       "      <td>NaN</td>\n",
       "      <td>NaN</td>\n",
       "    </tr>\n",
       "    <tr>\n",
       "      <th>1</th>\n",
       "      <td>1.673210e+09</td>\n",
       "      <td>x-XEKWYICXBEHBD5f1c518d4c78678df</td>\n",
       "      <td>NaN</td>\n",
       "      <td>NaN</td>\n",
       "      <td>OrderType.LIMIT_MAKER</td>\n",
       "      <td>NaN</td>\n",
       "      <td>NaN</td>\n",
       "      <td>NaN</td>\n",
       "      <td>NaN</td>\n",
       "      <td>NaN</td>\n",
       "      <td>NaN</td>\n",
       "      <td>BuyOrderCompletedEvent</td>\n",
       "      <td>binance</td>\n",
       "      <td>ETH</td>\n",
       "      <td>BUSD</td>\n",
       "      <td>0.01230000</td>\n",
       "      <td>15.55962300</td>\n",
       "      <td>6534132661</td>\n",
       "    </tr>\n",
       "  </tbody>\n",
       "</table>\n",
       "</div>"
      ],
      "text/plain": [
       "      timestamp                          order_id trading_pair     trade_type  \\\n",
       "0  1.673210e+09  x-XEKWYICXBEHBD5f1c518d4c78678df     ETH-BUSD  TradeType.BUY   \n",
       "1  1.673210e+09  x-XEKWYICXBEHBD5f1c518d4c78678df          NaN            NaN   \n",
       "\n",
       "              order_type          price      amount  \\\n",
       "0  OrderType.LIMIT_MAKER  1265.01000000  0.01230000   \n",
       "1  OrderType.LIMIT_MAKER            NaN         NaN   \n",
       "\n",
       "                                           trade_fee exchange_trade_id  \\\n",
       "0  {'percent': '0', 'percent_token': 'BNB', 'flat...         442175401   \n",
       "1                                                NaN               NaN   \n",
       "\n",
       "   leverage position              event_name event_source base_asset  \\\n",
       "0       1.0      NIL        OrderFilledEvent      binance        NaN   \n",
       "1       NaN      NaN  BuyOrderCompletedEvent      binance        ETH   \n",
       "\n",
       "  quote_asset base_asset_amount quote_asset_amount exchange_order_id  \n",
       "0         NaN               NaN                NaN               NaN  \n",
       "1        BUSD        0.01230000        15.55962300        6534132661  "
      ]
     },
     "execution_count": 4,
     "metadata": {},
     "output_type": "execute_result"
    }
   ],
   "source": [
    "pd.DataFrame(raw_data)"
   ]
  },
  {
   "cell_type": "code",
   "execution_count": null,
   "id": "267f8ba5",
   "metadata": {},
   "outputs": [],
   "source": []
  }
 ],
 "metadata": {
  "kernelspec": {
   "display_name": "hummingbot",
   "language": "python",
   "name": "hummingbot"
  },
  "language_info": {
   "codemirror_mode": {
    "name": "ipython",
    "version": 3
   },
   "file_extension": ".py",
   "mimetype": "text/x-python",
   "name": "python",
   "nbconvert_exporter": "python",
   "pygments_lexer": "ipython3",
   "version": "3.8.2"
  }
 },
 "nbformat": 4,
 "nbformat_minor": 5
}
